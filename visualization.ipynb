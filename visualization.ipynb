{
 "cells": [
  {
   "cell_type": "code",
   "execution_count": 1,
   "metadata": {},
   "outputs": [],
   "source": [
    "import pandas as pd\n"
   ]
  },
  {
   "cell_type": "code",
   "execution_count": 9,
   "metadata": {},
   "outputs": [
    {
     "data": {
      "text/html": [
       "<div>\n",
       "<style scoped>\n",
       "    .dataframe tbody tr th:only-of-type {\n",
       "        vertical-align: middle;\n",
       "    }\n",
       "\n",
       "    .dataframe tbody tr th {\n",
       "        vertical-align: top;\n",
       "    }\n",
       "\n",
       "    .dataframe thead th {\n",
       "        text-align: right;\n",
       "    }\n",
       "</style>\n",
       "<table border=\"1\" class=\"dataframe\">\n",
       "  <thead>\n",
       "    <tr style=\"text-align: right;\">\n",
       "      <th></th>\n",
       "      <th>PCEC</th>\n",
       "      <th>NR_STRUC_Q</th>\n",
       "      <th>equip_q</th>\n",
       "      <th>RES_Q</th>\n",
       "      <th>INVTCHANGE_Q</th>\n",
       "      <th>exports_q</th>\n",
       "      <th>imports_q</th>\n",
       "      <th>GOV_Q</th>\n",
       "    </tr>\n",
       "    <tr>\n",
       "      <th>Date</th>\n",
       "      <th></th>\n",
       "      <th></th>\n",
       "      <th></th>\n",
       "      <th></th>\n",
       "      <th></th>\n",
       "      <th></th>\n",
       "      <th></th>\n",
       "      <th></th>\n",
       "    </tr>\n",
       "  </thead>\n",
       "  <tbody>\n",
       "    <tr>\n",
       "      <th>1959-01-01</th>\n",
       "      <td>19.843052</td>\n",
       "      <td>16.632566</td>\n",
       "      <td>32.125310</td>\n",
       "      <td>8.890327</td>\n",
       "      <td>26.119888</td>\n",
       "      <td>29.589375</td>\n",
       "      <td>117.750355</td>\n",
       "      <td>17.162151</td>\n",
       "    </tr>\n",
       "    <tr>\n",
       "      <th>1959-02-01</th>\n",
       "      <td>18.496565</td>\n",
       "      <td>26.124994</td>\n",
       "      <td>29.736974</td>\n",
       "      <td>8.629806</td>\n",
       "      <td>23.522725</td>\n",
       "      <td>24.428632</td>\n",
       "      <td>118.241806</td>\n",
       "      <td>17.178695</td>\n",
       "    </tr>\n",
       "    <tr>\n",
       "      <th>1959-03-01</th>\n",
       "      <td>17.787953</td>\n",
       "      <td>27.230003</td>\n",
       "      <td>28.356425</td>\n",
       "      <td>7.143992</td>\n",
       "      <td>22.196057</td>\n",
       "      <td>21.695163</td>\n",
       "      <td>119.310905</td>\n",
       "      <td>17.195270</td>\n",
       "    </tr>\n",
       "    <tr>\n",
       "      <th>1959-04-01</th>\n",
       "      <td>17.715481</td>\n",
       "      <td>30.942868</td>\n",
       "      <td>28.006602</td>\n",
       "      <td>6.126193</td>\n",
       "      <td>22.079811</td>\n",
       "      <td>21.376790</td>\n",
       "      <td>119.450246</td>\n",
       "      <td>17.238035</td>\n",
       "    </tr>\n",
       "    <tr>\n",
       "      <th>1959-05-01</th>\n",
       "      <td>18.337103</td>\n",
       "      <td>29.319558</td>\n",
       "      <td>28.421234</td>\n",
       "      <td>0.844286</td>\n",
       "      <td>23.197954</td>\n",
       "      <td>21.547767</td>\n",
       "      <td>119.657492</td>\n",
       "      <td>17.257903</td>\n",
       "    </tr>\n",
       "    <tr>\n",
       "      <th>...</th>\n",
       "      <td>...</td>\n",
       "      <td>...</td>\n",
       "      <td>...</td>\n",
       "      <td>...</td>\n",
       "      <td>...</td>\n",
       "      <td>...</td>\n",
       "      <td>...</td>\n",
       "      <td>...</td>\n",
       "    </tr>\n",
       "    <tr>\n",
       "      <th>2016-05-01</th>\n",
       "      <td>493.068125</td>\n",
       "      <td>1428.267292</td>\n",
       "      <td>681.701095</td>\n",
       "      <td>-10.596187</td>\n",
       "      <td>2248.663777</td>\n",
       "      <td>2719.982729</td>\n",
       "      <td>3269.100852</td>\n",
       "      <td>110.875344</td>\n",
       "    </tr>\n",
       "    <tr>\n",
       "      <th>2016-06-01</th>\n",
       "      <td>496.641171</td>\n",
       "      <td>1391.075746</td>\n",
       "      <td>689.080333</td>\n",
       "      <td>13.450607</td>\n",
       "      <td>2271.911659</td>\n",
       "      <td>2757.738129</td>\n",
       "      <td>3285.531398</td>\n",
       "      <td>110.920793</td>\n",
       "    </tr>\n",
       "    <tr>\n",
       "      <th>2016-07-01</th>\n",
       "      <td>505.790705</td>\n",
       "      <td>1356.356927</td>\n",
       "      <td>696.218511</td>\n",
       "      <td>9.745511</td>\n",
       "      <td>2310.424494</td>\n",
       "      <td>2730.279175</td>\n",
       "      <td>3289.867746</td>\n",
       "      <td>110.945863</td>\n",
       "    </tr>\n",
       "    <tr>\n",
       "      <th>2016-08-01</th>\n",
       "      <td>509.908679</td>\n",
       "      <td>1315.166083</td>\n",
       "      <td>685.479158</td>\n",
       "      <td>34.007546</td>\n",
       "      <td>2321.484446</td>\n",
       "      <td>2759.165066</td>\n",
       "      <td>3307.862967</td>\n",
       "      <td>111.139905</td>\n",
       "    </tr>\n",
       "    <tr>\n",
       "      <th>2016-09-01</th>\n",
       "      <td>505.260325</td>\n",
       "      <td>1359.835250</td>\n",
       "      <td>679.608451</td>\n",
       "      <td>20.715116</td>\n",
       "      <td>2324.747891</td>\n",
       "      <td>2720.570260</td>\n",
       "      <td>3318.610088</td>\n",
       "      <td>111.384298</td>\n",
       "    </tr>\n",
       "  </tbody>\n",
       "</table>\n",
       "<p>693 rows × 8 columns</p>\n",
       "</div>"
      ],
      "text/plain": [
       "                  PCEC   NR_STRUC_Q     equip_q      RES_Q  INVTCHANGE_Q  \\\n",
       "Date                                                                       \n",
       "1959-01-01   19.843052    16.632566   32.125310   8.890327     26.119888   \n",
       "1959-02-01   18.496565    26.124994   29.736974   8.629806     23.522725   \n",
       "1959-03-01   17.787953    27.230003   28.356425   7.143992     22.196057   \n",
       "1959-04-01   17.715481    30.942868   28.006602   6.126193     22.079811   \n",
       "1959-05-01   18.337103    29.319558   28.421234   0.844286     23.197954   \n",
       "...                ...          ...         ...        ...           ...   \n",
       "2016-05-01  493.068125  1428.267292  681.701095 -10.596187   2248.663777   \n",
       "2016-06-01  496.641171  1391.075746  689.080333  13.450607   2271.911659   \n",
       "2016-07-01  505.790705  1356.356927  696.218511   9.745511   2310.424494   \n",
       "2016-08-01  509.908679  1315.166083  685.479158  34.007546   2321.484446   \n",
       "2016-09-01  505.260325  1359.835250  679.608451  20.715116   2324.747891   \n",
       "\n",
       "              exports_q    imports_q       GOV_Q  \n",
       "Date                                              \n",
       "1959-01-01    29.589375   117.750355   17.162151  \n",
       "1959-02-01    24.428632   118.241806   17.178695  \n",
       "1959-03-01    21.695163   119.310905   17.195270  \n",
       "1959-04-01    21.376790   119.450246   17.238035  \n",
       "1959-05-01    21.547767   119.657492   17.257903  \n",
       "...                 ...          ...         ...  \n",
       "2016-05-01  2719.982729  3269.100852  110.875344  \n",
       "2016-06-01  2757.738129  3285.531398  110.920793  \n",
       "2016-07-01  2730.279175  3289.867746  110.945863  \n",
       "2016-08-01  2759.165066  3307.862967  111.139905  \n",
       "2016-09-01  2720.570260  3318.610088  111.384298  \n",
       "\n",
       "[693 rows x 8 columns]"
      ]
     },
     "execution_count": 9,
     "metadata": {},
     "output_type": "execute_result"
    }
   ],
   "source": [
    "df = pd.read_csv(\"results/interpolated_data.csv\", index_col=\"Date\")\n",
    "df.index = pd.to_datetime(df.index)\n",
    "df"
   ]
  },
  {
   "cell_type": "code",
   "execution_count": 11,
   "metadata": {},
   "outputs": [
    {
     "data": {
      "text/plain": [
       "<Axes: xlabel='Date'>"
      ]
     },
     "execution_count": 11,
     "metadata": {},
     "output_type": "execute_result"
    },
    {
     "data": {
      "image/png": "[encoded data removed]",
      "text/plain": [
       "<Figure size 640x480 with 1 Axes>"
      ]
     },
     "metadata": {},
     "output_type": "display_data"
    }
   ],
   "source": [
    "gdp = pd.read_csv(\"results/gdp_results.csv\", index_col=\"Date\")\n",
    "gdp.index = pd.to_datetime(gdp.index)\n",
    "gdp\n",
    "gdp.Deflator.plot()\n"
   ]
  },
  {
   "cell_type": "code",
   "execution_count": 20,
   "metadata": {},
   "outputs": [
    {
     "data": {
      "text/plain": [
       "<Axes: xlabel='Date'>"
      ]
     },
     "execution_count": 20,
     "metadata": {},
     "output_type": "execute_result"
    },
    {
     "data": {
      "image/png": "[encoded data removed]",
      "text/plain": [
       "<Figure size 640x480 with 1 Axes>"
      ]
     },
     "metadata": {},
     "output_type": "display_data"
    }
   ],
   "source": [
    "# Read the Excel file\n",
    "df = pd.read_excel(\"src/interpolation_sw_2010/replication_materials/2020__jarocinski_karadi__2020/Interpolated_USa.xls\", sheet_name=\"Monthly Indices\")\n",
    "\n",
    "# Create a date column from Year and Month columns\n",
    "if 'Year' in df.columns and 'Month' in df.columns:\n",
    "    # Create a function to get the last day of each month\n",
    "    def last_day_of_month(year, month):\n",
    "        # Get the first day of the next month and subtract one day\n",
    "        if month == 12:\n",
    "            next_month = pd.Timestamp(year + 1, 1, 1)\n",
    "        else:\n",
    "            next_month = pd.Timestamp(year, month + 1, 1)\n",
    "        return next_month - pd.Timedelta(days=1)\n",
    "    \n",
    "    # Apply the function to create dates with the last day of each month\n",
    "    df['Date'] = df.apply(lambda row: last_day_of_month(int(row['Year']), int(row['Month'])), axis=1)\n",
    "\n",
    "df = df.set_index('Date')\n",
    "df.index = pd.to_datetime(df.index)\n",
    "\n",
    "df.PCE.plot()"
   ]
  },
  {
   "cell_type": "code",
   "execution_count": 16,
   "metadata": {},
   "outputs": [
    {
     "data": {
      "text/html": [
       "<div>\n",
       "<style scoped>\n",
       "    .dataframe tbody tr th:only-of-type {\n",
       "        vertical-align: middle;\n",
       "    }\n",
       "\n",
       "    .dataframe tbody tr th {\n",
       "        vertical-align: top;\n",
       "    }\n",
       "\n",
       "    .dataframe thead th {\n",
       "        text-align: right;\n",
       "    }\n",
       "</style>\n",
       "<table border=\"1\" class=\"dataframe\">\n",
       "  <thead>\n",
       "    <tr style=\"text-align: right;\">\n",
       "      <th></th>\n",
       "    </tr>\n",
       "  </thead>\n",
       "  <tbody>\n",
       "  </tbody>\n",
       "</table>\n",
       "</div>"
      ],
      "text/plain": [
       "Empty DataFrame\n",
       "Columns: []\n",
       "Index: []"
      ]
     },
     "execution_count": 16,
     "metadata": {},
     "output_type": "execute_result"
    }
   ],
   "source": [
    "df"
   ]
  },
  {
   "cell_type": "code",
   "execution_count": null,
   "metadata": {},
   "outputs": [],
   "source": []
  }
 ],
 "metadata": {
  "kernelspec": {
   "display_name": "interpolation-sw-2010-bW--_Fdm-py3.13",
   "language": "python",
   "name": "python3"
  },
  "language_info": {
   "codemirror_mode": {
    "name": "ipython",
    "version": 3
   },
   "file_extension": ".py",
   "mimetype": "text/x-python",
   "name": "python",
   "nbconvert_exporter": "python",
   "pygments_lexer": "ipython3",
   "version": "3.13.1"
  }
 },
 "nbformat": 4,
 "nbformat_minor": 2
}
